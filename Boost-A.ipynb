{
 "cells": [
  {
   "cell_type": "markdown",
   "metadata": {},
   "source": [
    "# Boosting Model for Stock A"
   ]
  },
  {
   "cell_type": "markdown",
   "metadata": {},
   "source": [
    "# Import Libraries"
   ]
  },
  {
   "cell_type": "code",
   "execution_count": 1,
   "metadata": {},
   "outputs": [],
   "source": [
    "import numpy as np\n",
    "import pandas as pd\n",
    "import matplotlib.pyplot as plt\n",
    "%matplotlib inline\n",
    "\n",
    "from datetime import datetime\n",
    "from sklearn.ensemble import GradientBoostingRegressor\n",
    "from sklearn.metrics import mean_squared_error,accuracy_score\n",
    "\n",
    "import warnings\n",
    "warnings.filterwarnings(\"ignore\")"
   ]
  },
  {
   "cell_type": "markdown",
   "metadata": {},
   "source": [
    "# Read Data"
   ]
  },
  {
   "cell_type": "code",
   "execution_count": 2,
   "metadata": {},
   "outputs": [
    {
     "data": {
      "text/html": [
       "<div>\n",
       "<style scoped>\n",
       "    .dataframe tbody tr th:only-of-type {\n",
       "        vertical-align: middle;\n",
       "    }\n",
       "\n",
       "    .dataframe tbody tr th {\n",
       "        vertical-align: top;\n",
       "    }\n",
       "\n",
       "    .dataframe thead th {\n",
       "        text-align: right;\n",
       "    }\n",
       "</style>\n",
       "<table border=\"1\" class=\"dataframe\">\n",
       "  <thead>\n",
       "    <tr style=\"text-align: right;\">\n",
       "      <th></th>\n",
       "      <th>symbol</th>\n",
       "      <th>open</th>\n",
       "      <th>high</th>\n",
       "      <th>low</th>\n",
       "      <th>close</th>\n",
       "      <th>average</th>\n",
       "      <th>time</th>\n",
       "      <th>day</th>\n",
       "      <th>id</th>\n",
       "      <th>day num</th>\n",
       "    </tr>\n",
       "  </thead>\n",
       "  <tbody>\n",
       "    <tr>\n",
       "      <td>2590328</td>\n",
       "      <td>A</td>\n",
       "      <td>135.54</td>\n",
       "      <td>135.79</td>\n",
       "      <td>135.54</td>\n",
       "      <td>135.79</td>\n",
       "      <td>135.67</td>\n",
       "      <td>06:29:50</td>\n",
       "      <td>0</td>\n",
       "      <td>A-0-06:29:50</td>\n",
       "      <td>1</td>\n",
       "    </tr>\n",
       "    <tr>\n",
       "      <td>2590329</td>\n",
       "      <td>A</td>\n",
       "      <td>135.79</td>\n",
       "      <td>135.79</td>\n",
       "      <td>135.79</td>\n",
       "      <td>135.79</td>\n",
       "      <td>135.79</td>\n",
       "      <td>06:29:55</td>\n",
       "      <td>0</td>\n",
       "      <td>A-0-06:29:55</td>\n",
       "      <td>1</td>\n",
       "    </tr>\n",
       "    <tr>\n",
       "      <td>2590330</td>\n",
       "      <td>A</td>\n",
       "      <td>135.73</td>\n",
       "      <td>135.95</td>\n",
       "      <td>135.68</td>\n",
       "      <td>135.86</td>\n",
       "      <td>135.74</td>\n",
       "      <td>06:30:00</td>\n",
       "      <td>0</td>\n",
       "      <td>A-0-06:30:00</td>\n",
       "      <td>1</td>\n",
       "    </tr>\n",
       "    <tr>\n",
       "      <td>2590331</td>\n",
       "      <td>A</td>\n",
       "      <td>135.73</td>\n",
       "      <td>135.98</td>\n",
       "      <td>135.73</td>\n",
       "      <td>135.98</td>\n",
       "      <td>135.91</td>\n",
       "      <td>06:30:05</td>\n",
       "      <td>0</td>\n",
       "      <td>A-0-06:30:05</td>\n",
       "      <td>1</td>\n",
       "    </tr>\n",
       "    <tr>\n",
       "      <td>2590332</td>\n",
       "      <td>A</td>\n",
       "      <td>135.89</td>\n",
       "      <td>135.89</td>\n",
       "      <td>135.89</td>\n",
       "      <td>135.89</td>\n",
       "      <td>135.89</td>\n",
       "      <td>06:30:10</td>\n",
       "      <td>0</td>\n",
       "      <td>A-0-06:30:10</td>\n",
       "      <td>1</td>\n",
       "    </tr>\n",
       "    <tr>\n",
       "      <td>...</td>\n",
       "      <td>...</td>\n",
       "      <td>...</td>\n",
       "      <td>...</td>\n",
       "      <td>...</td>\n",
       "      <td>...</td>\n",
       "      <td>...</td>\n",
       "      <td>...</td>\n",
       "      <td>...</td>\n",
       "      <td>...</td>\n",
       "      <td>...</td>\n",
       "    </tr>\n",
       "    <tr>\n",
       "      <td>3017220</td>\n",
       "      <td>A</td>\n",
       "      <td>146.30</td>\n",
       "      <td>146.32</td>\n",
       "      <td>146.28</td>\n",
       "      <td>146.28</td>\n",
       "      <td>146.29</td>\n",
       "      <td>12:59:35</td>\n",
       "      <td>86</td>\n",
       "      <td>A-86-12:59:35</td>\n",
       "      <td>87</td>\n",
       "    </tr>\n",
       "    <tr>\n",
       "      <td>3017221</td>\n",
       "      <td>A</td>\n",
       "      <td>146.28</td>\n",
       "      <td>146.30</td>\n",
       "      <td>146.27</td>\n",
       "      <td>146.29</td>\n",
       "      <td>146.29</td>\n",
       "      <td>12:59:40</td>\n",
       "      <td>86</td>\n",
       "      <td>A-86-12:59:40</td>\n",
       "      <td>87</td>\n",
       "    </tr>\n",
       "    <tr>\n",
       "      <td>3017222</td>\n",
       "      <td>A</td>\n",
       "      <td>146.30</td>\n",
       "      <td>146.32</td>\n",
       "      <td>146.30</td>\n",
       "      <td>146.32</td>\n",
       "      <td>146.31</td>\n",
       "      <td>12:59:45</td>\n",
       "      <td>86</td>\n",
       "      <td>A-86-12:59:45</td>\n",
       "      <td>87</td>\n",
       "    </tr>\n",
       "    <tr>\n",
       "      <td>3017223</td>\n",
       "      <td>A</td>\n",
       "      <td>146.29</td>\n",
       "      <td>146.30</td>\n",
       "      <td>146.26</td>\n",
       "      <td>146.26</td>\n",
       "      <td>146.28</td>\n",
       "      <td>12:59:50</td>\n",
       "      <td>86</td>\n",
       "      <td>A-86-12:59:50</td>\n",
       "      <td>87</td>\n",
       "    </tr>\n",
       "    <tr>\n",
       "      <td>3017224</td>\n",
       "      <td>A</td>\n",
       "      <td>146.26</td>\n",
       "      <td>146.28</td>\n",
       "      <td>146.21</td>\n",
       "      <td>146.28</td>\n",
       "      <td>146.26</td>\n",
       "      <td>12:59:55</td>\n",
       "      <td>86</td>\n",
       "      <td>A-86-12:59:55</td>\n",
       "      <td>87</td>\n",
       "    </tr>\n",
       "  </tbody>\n",
       "</table>\n",
       "<p>426897 rows × 10 columns</p>\n",
       "</div>"
      ],
      "text/plain": [
       "        symbol    open    high     low   close  average      time  day  \\\n",
       "2590328      A  135.54  135.79  135.54  135.79   135.67  06:29:50    0   \n",
       "2590329      A  135.79  135.79  135.79  135.79   135.79  06:29:55    0   \n",
       "2590330      A  135.73  135.95  135.68  135.86   135.74  06:30:00    0   \n",
       "2590331      A  135.73  135.98  135.73  135.98   135.91  06:30:05    0   \n",
       "2590332      A  135.89  135.89  135.89  135.89   135.89  06:30:10    0   \n",
       "...        ...     ...     ...     ...     ...      ...       ...  ...   \n",
       "3017220      A  146.30  146.32  146.28  146.28   146.29  12:59:35   86   \n",
       "3017221      A  146.28  146.30  146.27  146.29   146.29  12:59:40   86   \n",
       "3017222      A  146.30  146.32  146.30  146.32   146.31  12:59:45   86   \n",
       "3017223      A  146.29  146.30  146.26  146.26   146.28  12:59:50   86   \n",
       "3017224      A  146.26  146.28  146.21  146.28   146.26  12:59:55   86   \n",
       "\n",
       "                    id day num  \n",
       "2590328   A-0-06:29:50       1  \n",
       "2590329   A-0-06:29:55       1  \n",
       "2590330   A-0-06:30:00       1  \n",
       "2590331   A-0-06:30:05       1  \n",
       "2590332   A-0-06:30:10       1  \n",
       "...                ...     ...  \n",
       "3017220  A-86-12:59:35      87  \n",
       "3017221  A-86-12:59:40      87  \n",
       "3017222  A-86-12:59:45      87  \n",
       "3017223  A-86-12:59:50      87  \n",
       "3017224  A-86-12:59:55      87  \n",
       "\n",
       "[426897 rows x 10 columns]"
      ]
     },
     "execution_count": 2,
     "metadata": {},
     "output_type": "execute_result"
    }
   ],
   "source": [
    "symbol = 'A'\n",
    "\n",
    "# Read data\n",
    "data = pd.read_csv('train_data.csv')\n",
    "data = data.dropna(axis=0)\n",
    "data['id'] = data['symbol'] + '-' + data['day'].astype(str) + '-' + data['time']\n",
    "data['day num'] = (data['day'] + 1).apply(str)\n",
    "data = data.loc[data['symbol'] == symbol]\n",
    "data"
   ]
  },
  {
   "cell_type": "markdown",
   "metadata": {},
   "source": [
    "# Time + Date"
   ]
  },
  {
   "cell_type": "code",
   "execution_count": 3,
   "metadata": {},
   "outputs": [],
   "source": [
    "# Initialize year\n",
    "year = \"2021\"\n",
    "\n",
    "def day_to_date(day_num):\n",
    "    res = []\n",
    "    for i in range(len(day_num)):\n",
    "        res.append(datetime.strptime(year + \"-\" + day_num[i], \"%Y-%j\").strftime(\"%m-%d-%Y\"))\n",
    "    return res"
   ]
  },
  {
   "cell_type": "code",
   "execution_count": 4,
   "metadata": {},
   "outputs": [],
   "source": [
    "data['date'] = day_to_date(data[\"day num\"].values)\n",
    "data['date time'] = data.date.astype(str) + ' ' + data.time.astype(str)\n",
    "data['sec'] = data.time.str[0:2].astype(int)*3600 + data.time.str[3:5].astype(int)*60 + data.time.str[6:8].astype(int)"
   ]
  },
  {
   "cell_type": "code",
   "execution_count": 5,
   "metadata": {},
   "outputs": [],
   "source": [
    "data['date time'] = pd.to_datetime(data['date time'])"
   ]
  },
  {
   "cell_type": "code",
   "execution_count": 6,
   "metadata": {},
   "outputs": [],
   "source": [
    "data['pct change'] = data['open'].pct_change() \n",
    "data['prev close diff'] = data['open'] - data['close'].shift(1)\n",
    "data = data.dropna()"
   ]
  },
  {
   "cell_type": "code",
   "execution_count": 7,
   "metadata": {},
   "outputs": [
    {
     "data": {
      "text/html": [
       "<div>\n",
       "<style scoped>\n",
       "    .dataframe tbody tr th:only-of-type {\n",
       "        vertical-align: middle;\n",
       "    }\n",
       "\n",
       "    .dataframe tbody tr th {\n",
       "        vertical-align: top;\n",
       "    }\n",
       "\n",
       "    .dataframe thead th {\n",
       "        text-align: right;\n",
       "    }\n",
       "</style>\n",
       "<table border=\"1\" class=\"dataframe\">\n",
       "  <thead>\n",
       "    <tr style=\"text-align: right;\">\n",
       "      <th></th>\n",
       "      <th>symbol</th>\n",
       "      <th>open</th>\n",
       "      <th>high</th>\n",
       "      <th>low</th>\n",
       "      <th>close</th>\n",
       "      <th>average</th>\n",
       "      <th>time</th>\n",
       "      <th>day</th>\n",
       "      <th>id</th>\n",
       "      <th>day num</th>\n",
       "      <th>date</th>\n",
       "      <th>date time</th>\n",
       "      <th>sec</th>\n",
       "      <th>pct change</th>\n",
       "      <th>prev close diff</th>\n",
       "    </tr>\n",
       "  </thead>\n",
       "  <tbody>\n",
       "    <tr>\n",
       "      <td>2590329</td>\n",
       "      <td>A</td>\n",
       "      <td>135.79</td>\n",
       "      <td>135.79</td>\n",
       "      <td>135.79</td>\n",
       "      <td>135.79</td>\n",
       "      <td>135.79</td>\n",
       "      <td>06:29:55</td>\n",
       "      <td>0</td>\n",
       "      <td>A-0-06:29:55</td>\n",
       "      <td>1</td>\n",
       "      <td>01-01-2021</td>\n",
       "      <td>2021-01-01 06:29:55</td>\n",
       "      <td>23395</td>\n",
       "      <td>0.001844</td>\n",
       "      <td>0.00</td>\n",
       "    </tr>\n",
       "    <tr>\n",
       "      <td>2590330</td>\n",
       "      <td>A</td>\n",
       "      <td>135.73</td>\n",
       "      <td>135.95</td>\n",
       "      <td>135.68</td>\n",
       "      <td>135.86</td>\n",
       "      <td>135.74</td>\n",
       "      <td>06:30:00</td>\n",
       "      <td>0</td>\n",
       "      <td>A-0-06:30:00</td>\n",
       "      <td>1</td>\n",
       "      <td>01-01-2021</td>\n",
       "      <td>2021-01-01 06:30:00</td>\n",
       "      <td>23400</td>\n",
       "      <td>-0.000442</td>\n",
       "      <td>-0.06</td>\n",
       "    </tr>\n",
       "    <tr>\n",
       "      <td>2590331</td>\n",
       "      <td>A</td>\n",
       "      <td>135.73</td>\n",
       "      <td>135.98</td>\n",
       "      <td>135.73</td>\n",
       "      <td>135.98</td>\n",
       "      <td>135.91</td>\n",
       "      <td>06:30:05</td>\n",
       "      <td>0</td>\n",
       "      <td>A-0-06:30:05</td>\n",
       "      <td>1</td>\n",
       "      <td>01-01-2021</td>\n",
       "      <td>2021-01-01 06:30:05</td>\n",
       "      <td>23405</td>\n",
       "      <td>0.000000</td>\n",
       "      <td>-0.13</td>\n",
       "    </tr>\n",
       "    <tr>\n",
       "      <td>2590332</td>\n",
       "      <td>A</td>\n",
       "      <td>135.89</td>\n",
       "      <td>135.89</td>\n",
       "      <td>135.89</td>\n",
       "      <td>135.89</td>\n",
       "      <td>135.89</td>\n",
       "      <td>06:30:10</td>\n",
       "      <td>0</td>\n",
       "      <td>A-0-06:30:10</td>\n",
       "      <td>1</td>\n",
       "      <td>01-01-2021</td>\n",
       "      <td>2021-01-01 06:30:10</td>\n",
       "      <td>23410</td>\n",
       "      <td>0.001179</td>\n",
       "      <td>-0.09</td>\n",
       "    </tr>\n",
       "    <tr>\n",
       "      <td>2590333</td>\n",
       "      <td>A</td>\n",
       "      <td>135.93</td>\n",
       "      <td>135.93</td>\n",
       "      <td>135.78</td>\n",
       "      <td>135.78</td>\n",
       "      <td>135.87</td>\n",
       "      <td>06:30:15</td>\n",
       "      <td>0</td>\n",
       "      <td>A-0-06:30:15</td>\n",
       "      <td>1</td>\n",
       "      <td>01-01-2021</td>\n",
       "      <td>2021-01-01 06:30:15</td>\n",
       "      <td>23415</td>\n",
       "      <td>0.000294</td>\n",
       "      <td>0.04</td>\n",
       "    </tr>\n",
       "    <tr>\n",
       "      <td>...</td>\n",
       "      <td>...</td>\n",
       "      <td>...</td>\n",
       "      <td>...</td>\n",
       "      <td>...</td>\n",
       "      <td>...</td>\n",
       "      <td>...</td>\n",
       "      <td>...</td>\n",
       "      <td>...</td>\n",
       "      <td>...</td>\n",
       "      <td>...</td>\n",
       "      <td>...</td>\n",
       "      <td>...</td>\n",
       "      <td>...</td>\n",
       "      <td>...</td>\n",
       "      <td>...</td>\n",
       "    </tr>\n",
       "    <tr>\n",
       "      <td>3017220</td>\n",
       "      <td>A</td>\n",
       "      <td>146.30</td>\n",
       "      <td>146.32</td>\n",
       "      <td>146.28</td>\n",
       "      <td>146.28</td>\n",
       "      <td>146.29</td>\n",
       "      <td>12:59:35</td>\n",
       "      <td>86</td>\n",
       "      <td>A-86-12:59:35</td>\n",
       "      <td>87</td>\n",
       "      <td>03-28-2021</td>\n",
       "      <td>2021-03-28 12:59:35</td>\n",
       "      <td>46775</td>\n",
       "      <td>0.000000</td>\n",
       "      <td>0.00</td>\n",
       "    </tr>\n",
       "    <tr>\n",
       "      <td>3017221</td>\n",
       "      <td>A</td>\n",
       "      <td>146.28</td>\n",
       "      <td>146.30</td>\n",
       "      <td>146.27</td>\n",
       "      <td>146.29</td>\n",
       "      <td>146.29</td>\n",
       "      <td>12:59:40</td>\n",
       "      <td>86</td>\n",
       "      <td>A-86-12:59:40</td>\n",
       "      <td>87</td>\n",
       "      <td>03-28-2021</td>\n",
       "      <td>2021-03-28 12:59:40</td>\n",
       "      <td>46780</td>\n",
       "      <td>-0.000137</td>\n",
       "      <td>0.00</td>\n",
       "    </tr>\n",
       "    <tr>\n",
       "      <td>3017222</td>\n",
       "      <td>A</td>\n",
       "      <td>146.30</td>\n",
       "      <td>146.32</td>\n",
       "      <td>146.30</td>\n",
       "      <td>146.32</td>\n",
       "      <td>146.31</td>\n",
       "      <td>12:59:45</td>\n",
       "      <td>86</td>\n",
       "      <td>A-86-12:59:45</td>\n",
       "      <td>87</td>\n",
       "      <td>03-28-2021</td>\n",
       "      <td>2021-03-28 12:59:45</td>\n",
       "      <td>46785</td>\n",
       "      <td>0.000137</td>\n",
       "      <td>0.01</td>\n",
       "    </tr>\n",
       "    <tr>\n",
       "      <td>3017223</td>\n",
       "      <td>A</td>\n",
       "      <td>146.29</td>\n",
       "      <td>146.30</td>\n",
       "      <td>146.26</td>\n",
       "      <td>146.26</td>\n",
       "      <td>146.28</td>\n",
       "      <td>12:59:50</td>\n",
       "      <td>86</td>\n",
       "      <td>A-86-12:59:50</td>\n",
       "      <td>87</td>\n",
       "      <td>03-28-2021</td>\n",
       "      <td>2021-03-28 12:59:50</td>\n",
       "      <td>46790</td>\n",
       "      <td>-0.000068</td>\n",
       "      <td>-0.03</td>\n",
       "    </tr>\n",
       "    <tr>\n",
       "      <td>3017224</td>\n",
       "      <td>A</td>\n",
       "      <td>146.26</td>\n",
       "      <td>146.28</td>\n",
       "      <td>146.21</td>\n",
       "      <td>146.28</td>\n",
       "      <td>146.26</td>\n",
       "      <td>12:59:55</td>\n",
       "      <td>86</td>\n",
       "      <td>A-86-12:59:55</td>\n",
       "      <td>87</td>\n",
       "      <td>03-28-2021</td>\n",
       "      <td>2021-03-28 12:59:55</td>\n",
       "      <td>46795</td>\n",
       "      <td>-0.000205</td>\n",
       "      <td>0.00</td>\n",
       "    </tr>\n",
       "  </tbody>\n",
       "</table>\n",
       "<p>426896 rows × 15 columns</p>\n",
       "</div>"
      ],
      "text/plain": [
       "        symbol    open    high     low   close  average      time  day  \\\n",
       "2590329      A  135.79  135.79  135.79  135.79   135.79  06:29:55    0   \n",
       "2590330      A  135.73  135.95  135.68  135.86   135.74  06:30:00    0   \n",
       "2590331      A  135.73  135.98  135.73  135.98   135.91  06:30:05    0   \n",
       "2590332      A  135.89  135.89  135.89  135.89   135.89  06:30:10    0   \n",
       "2590333      A  135.93  135.93  135.78  135.78   135.87  06:30:15    0   \n",
       "...        ...     ...     ...     ...     ...      ...       ...  ...   \n",
       "3017220      A  146.30  146.32  146.28  146.28   146.29  12:59:35   86   \n",
       "3017221      A  146.28  146.30  146.27  146.29   146.29  12:59:40   86   \n",
       "3017222      A  146.30  146.32  146.30  146.32   146.31  12:59:45   86   \n",
       "3017223      A  146.29  146.30  146.26  146.26   146.28  12:59:50   86   \n",
       "3017224      A  146.26  146.28  146.21  146.28   146.26  12:59:55   86   \n",
       "\n",
       "                    id day num        date           date time    sec  \\\n",
       "2590329   A-0-06:29:55       1  01-01-2021 2021-01-01 06:29:55  23395   \n",
       "2590330   A-0-06:30:00       1  01-01-2021 2021-01-01 06:30:00  23400   \n",
       "2590331   A-0-06:30:05       1  01-01-2021 2021-01-01 06:30:05  23405   \n",
       "2590332   A-0-06:30:10       1  01-01-2021 2021-01-01 06:30:10  23410   \n",
       "2590333   A-0-06:30:15       1  01-01-2021 2021-01-01 06:30:15  23415   \n",
       "...                ...     ...         ...                 ...    ...   \n",
       "3017220  A-86-12:59:35      87  03-28-2021 2021-03-28 12:59:35  46775   \n",
       "3017221  A-86-12:59:40      87  03-28-2021 2021-03-28 12:59:40  46780   \n",
       "3017222  A-86-12:59:45      87  03-28-2021 2021-03-28 12:59:45  46785   \n",
       "3017223  A-86-12:59:50      87  03-28-2021 2021-03-28 12:59:50  46790   \n",
       "3017224  A-86-12:59:55      87  03-28-2021 2021-03-28 12:59:55  46795   \n",
       "\n",
       "         pct change  prev close diff  \n",
       "2590329    0.001844             0.00  \n",
       "2590330   -0.000442            -0.06  \n",
       "2590331    0.000000            -0.13  \n",
       "2590332    0.001179            -0.09  \n",
       "2590333    0.000294             0.04  \n",
       "...             ...              ...  \n",
       "3017220    0.000000             0.00  \n",
       "3017221   -0.000137             0.00  \n",
       "3017222    0.000137             0.01  \n",
       "3017223   -0.000068            -0.03  \n",
       "3017224   -0.000205             0.00  \n",
       "\n",
       "[426896 rows x 15 columns]"
      ]
     },
     "execution_count": 7,
     "metadata": {},
     "output_type": "execute_result"
    }
   ],
   "source": [
    "data"
   ]
  },
  {
   "cell_type": "markdown",
   "metadata": {},
   "source": [
    "# Split data into Train & Test Sets"
   ]
  },
  {
   "cell_type": "code",
   "execution_count": 8,
   "metadata": {},
   "outputs": [
    {
     "name": "stdout",
     "output_type": "stream",
     "text": [
      "90.0 % of data set used for training\n"
     ]
    }
   ],
   "source": [
    "data.sort_values(['day','time'],ascending=[True,True],inplace=True)\n",
    "X = data.drop(['symbol','open','high','low','close','average','time','day','id','date','date time','pct change','prev close diff'], axis=1)\n",
    "# X = data.drop(['symbol','open','high','low','close','average','time','day','id','date','date time'], axis=1)\n",
    "y = data['open']\n",
    "\n",
    "data_size = len(data)\n",
    "train_size = round(data_size*0.9)\n",
    "\n",
    "# Train\n",
    "X_train = X.iloc[:train_size, :]\n",
    "y_train = y.iloc[:train_size]\n",
    "\n",
    "# # Test\n",
    "X_test = X.iloc[train_size:,:]\n",
    "y_test = y.iloc[train_size:]\n",
    "\n",
    "print(round(len(X_train) / data_size, 2)*100,'% of data set used for training')"
   ]
  },
  {
   "cell_type": "markdown",
   "metadata": {},
   "source": [
    "# Boosting Model (Gradient Boosting Regressor)"
   ]
  },
  {
   "cell_type": "code",
   "execution_count": 9,
   "metadata": {},
   "outputs": [
    {
     "data": {
      "text/plain": [
       "GradientBoostingRegressor(alpha=0.9, criterion='friedman_mse', init=None,\n",
       "                          learning_rate=0.05, loss='ls', max_depth=3,\n",
       "                          max_features=None, max_leaf_nodes=None,\n",
       "                          min_impurity_decrease=0.0, min_impurity_split=None,\n",
       "                          min_samples_leaf=1, min_samples_split=2,\n",
       "                          min_weight_fraction_leaf=0.0, n_estimators=2000,\n",
       "                          n_iter_no_change=None, presort='auto', random_state=1,\n",
       "                          subsample=1.0, tol=0.0001, validation_fraction=0.1,\n",
       "                          verbose=0, warm_start=False)"
      ]
     },
     "execution_count": 9,
     "metadata": {},
     "output_type": "execute_result"
    }
   ],
   "source": [
    "boost = GradientBoostingRegressor(learning_rate=.05, n_estimators=2000, \n",
    "            random_state=1, max_depth=3, validation_fraction=0.1)\n",
    "boost.fit(X_train, y_train)"
   ]
  },
  {
   "cell_type": "code",
   "execution_count": 10,
   "metadata": {
    "scrolled": true
   },
   "outputs": [
    {
     "name": "stdout",
     "output_type": "stream",
     "text": [
      "Spread is: 1.474479528696179\n"
     ]
    },
    {
     "data": {
      "text/plain": [
       "array([149.34563449, 149.34563449, 149.35533058, ..., 150.01025119,\n",
       "       150.01025119, 150.01025119])"
      ]
     },
     "execution_count": 10,
     "metadata": {},
     "output_type": "execute_result"
    }
   ],
   "source": [
    "predict = boost.predict(X_test)\n",
    "print('Spread is:', predict.max() - predict.min())\n",
    "predict"
   ]
  },
  {
   "cell_type": "code",
   "execution_count": 11,
   "metadata": {},
   "outputs": [
    {
     "data": {
      "text/plain": [
       "(open          151.120000\n",
       " prediction    150.154318\n",
       " dtype: float64, open          142.540000\n",
       " prediction    148.679838\n",
       " dtype: float64)"
      ]
     },
     "execution_count": 11,
     "metadata": {},
     "output_type": "execute_result"
    }
   ],
   "source": [
    "results = pd.DataFrame(y_test)\n",
    "results['prediction'] = predict\n",
    "results.max(), results.min()"
   ]
  },
  {
   "cell_type": "code",
   "execution_count": 25,
   "metadata": {},
   "outputs": [
    {
     "data": {
      "image/png": "[encoded data removed]",
      "text/plain": [
       "<Figure size 864x576 with 1 Axes>"
      ]
     },
     "metadata": {
      "needs_background": "light"
     },
     "output_type": "display_data"
    }
   ],
   "source": [
    "# Plot title\n",
    "stock = symbol\n",
    "plot_title = 'Predicted vs Actual Open Price for Stock ' + stock\n",
    "\n",
    "# Plot of 'predictions' vs 'open price'\n",
    "plt.figure(figsize=(12, 8))\n",
    "plt.plot(data['date time'].iloc[train_size:], predict[:], label='Predicted', color='tab:blue')\n",
    "plt.plot(data['date time'].iloc[train_size:], data['open'].iloc[train_size:], label='Open Price', color='tab:red')\n",
    "plt.xlabel('Date')\n",
    "plt.ylabel('Open Price $ (USD)')\n",
    "plt.title(plot_title)\n",
    "plt.legend()\n",
    "plt.grid()\n",
    "plt.savefig('boost_a')"
   ]
  },
  {
   "cell_type": "code",
   "execution_count": 26,
   "metadata": {},
   "outputs": [
    {
     "data": {
      "image/png": "[encoded data removed]",
      "text/plain": [
       "<Figure size 864x576 with 1 Axes>"
      ]
     },
     "metadata": {
      "needs_background": "light"
     },
     "output_type": "display_data"
    }
   ],
   "source": [
    "# Test And Train Data\n",
    "plt.figure(figsize=(12, 8))\n",
    "# fig = plt.figure()\n",
    "plt.plot(data['date time'].iloc[:train_size], y_train, color='tab:blue', label='Train Set')\n",
    "plt.plot(data['date time'].iloc[train_size:], y_test, color='tab:orange', label='Test Set')\n",
    "plt.plot(data['date time'].iloc[train_size:], predict[:], label='Predicted', color='tab:green')\n",
    "plt.xlabel('Date')\n",
    "plt.ylabel('Open Price $ (USD)')\n",
    "plot_title = 'Data Set for Stock ' + stock\n",
    "plt.title(plot_title)\n",
    "plt.legend()\n",
    "plt.grid()"
   ]
  },
  {
   "cell_type": "code",
   "execution_count": 14,
   "metadata": {},
   "outputs": [
    {
     "name": "stdout",
     "output_type": "stream",
     "text": [
      "MSE is 6.1184486982297575\n"
     ]
    }
   ],
   "source": [
    "# Mean Squared Error\n",
    "import math\n",
    "mse = mean_squared_error(y_test, predict)\n",
    "print('MSE is', mse)"
   ]
  },
  {
   "cell_type": "markdown",
   "metadata": {},
   "source": [
    "# Forecasting"
   ]
  },
  {
   "cell_type": "code",
   "execution_count": 15,
   "metadata": {},
   "outputs": [],
   "source": [
    "# Initialize unique time DataFrame\n",
    "unique_time = pd.DataFrame(data.time.unique(), columns=['time'])\n",
    "unique_time.sort_values(by=['time'],ascending=[True],inplace=True)\n",
    "\n",
    "last_day = int(data['day num'].iloc[-1]) # last day in original data set (day 86)\n",
    "dayspredict = (1, 2, 3, 4, 5, 6, 7, 8, 9) # days to forecast\n",
    "\n",
    "# Initialize list to store DataFrames\n",
    "stack = [] \n",
    "\n",
    "# Loop through days to forecast and create a DataFrame for each\n",
    "# Append each DataFrame to list\n",
    "for i in range(len(dayspredict)):\n",
    "    # Create dataframe with time column\n",
    "    temp = unique_time.copy()\n",
    "    temp.sort_values(by=['time'],ascending=[True],inplace=True)\n",
    "        \n",
    "    first_future_day = last_day + dayspredict[i] # next future day to forecast\n",
    "\n",
    "    # Add the day number in 'day num' column (same value for all time entries)\n",
    "    temp['day num'] = first_future_day\n",
    "    \n",
    "    stack.append(temp)\n",
    "    del temp # clear temporary dataframe"
   ]
  },
  {
   "cell_type": "code",
   "execution_count": 16,
   "metadata": {},
   "outputs": [],
   "source": [
    "zero = stack[0].copy()\n",
    "one = stack[1].copy()\n",
    "two = stack[2].copy()\n",
    "three = stack[3].copy()\n",
    "four = stack[4].copy()\n",
    "five = stack[5].copy()\n",
    "six = stack[6].copy()\n",
    "seven = stack[7].copy()\n",
    "eight = stack[8].copy()\n",
    "future_time = pd.DataFrame()\n",
    "future_time = future_time.append([zero,one,two,three,four,five,six,seven,eight])"
   ]
  },
  {
   "cell_type": "code",
   "execution_count": 17,
   "metadata": {},
   "outputs": [],
   "source": [
    "future_time['sec'] = future_time.time.str[0:2].astype(int)*3600 + future_time.time.str[3:5].astype(int)*60 + future_time.time.str[6:8].astype(int)\n",
    "future_time['day num'].astype(int)"
   ]
  },
  {
   "cell_type": "code",
   "execution_count": 18,
   "metadata": {},
   "outputs": [],
   "source": [
    "predict = boost.predict(future_time.drop(['time'], axis=1))\n",
    "print('Spread is:', predict.max() - predict.min())\n",
    "predict"
   ]
  },
  {
   "cell_type": "code",
   "execution_count": 19,
   "metadata": {},
   "outputs": [],
   "source": [
    "# Format ID\n",
    "future_time['predicted'] = predict\n",
    "future_time['symbol'] = symbol\n",
    "future_time['ID'] = future_time['symbol'] + '-' + future_time['day num'].astype(str) + '-' + future_time['time']"
   ]
  },
  {
   "cell_type": "code",
   "execution_count": 20,
   "metadata": {},
   "outputs": [],
   "source": [
    "export = pd.DataFrame()\n",
    "export['id'] = future_time['ID']\n",
    "export['open'] = future_time['predicted']"
   ]
  },
  {
   "cell_type": "code",
   "execution_count": 21,
   "metadata": {},
   "outputs": [],
   "source": [
    "# Export as csv file\n",
    "file_name = 'export_stock_' + symbol + '.csv'\n",
    "export.to_csv(file_name, index=False)"
   ]
  },
  {
   "cell_type": "code",
   "execution_count": 22,
   "metadata": {},
   "outputs": [],
   "source": [
    "export['day'] = (export.id.str[2:4].astype(int)).apply(str)"
   ]
  },
  {
   "cell_type": "code",
   "execution_count": 23,
   "metadata": {},
   "outputs": [],
   "source": [
    "export['date'] = day_to_date(export['day'].values)\n",
    "export['time'] = export.id.str[5:]\n",
    "export['date time'] = export.date.astype(str) + ' ' + export.time.astype(str)\n",
    "export"
   ]
  }
 ],
 "metadata": {
  "kernelspec": {
   "display_name": "Python 3 (ipykernel)",
   "language": "python",
   "name": "python3"
  },
  "language_info": {
   "codemirror_mode": {
    "name": "ipython",
    "version": 3
   },
   "file_extension": ".py",
   "mimetype": "text/x-python",
   "name": "python",
   "nbconvert_exporter": "python",
   "pygments_lexer": "ipython3",
   "version": "3.8.8"
  }
 },
 "nbformat": 4,
 "nbformat_minor": 2
}
