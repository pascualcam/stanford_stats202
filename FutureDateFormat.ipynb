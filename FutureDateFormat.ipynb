{
 "cells": [
  {
   "cell_type": "markdown",
   "metadata": {},
   "source": [
    "# This file creates a future time DataFrame()"
   ]
  },
  {
   "cell_type": "code",
   "execution_count": null,
   "metadata": {},
   "outputs": [],
   "source": [
    "# Read data\n",
    "data = pd.read_csv('train_data.csv')"
   ]
  },
  {
   "cell_type": "code",
   "execution_count": null,
   "metadata": {},
   "outputs": [],
   "source": [
    "# Initialize unique time DataFrame\n",
    "unique_time = pd.DataFrame(data.time.unique(), columns=['time'])\n",
    "unique_time.sort_values(by=['time'],ascending=[True],inplace=True)\n",
    "\n",
    "last_day = int(data['day num'].iloc[-1]) # last day in original data set (day 86)\n",
    "dayspredict = (1, 2, 3, 4, 5, 6, 7, 8, 9) # days to forecast\n",
    "\n",
    "# Initialize list to store DataFrames\n",
    "stack = [] \n",
    "\n",
    "# Loop through days to forecast and create a DataFrame for each\n",
    "# Append each DataFrame to list\n",
    "for i in range(len(dayspredict)):\n",
    "    # Create dataframe with time column\n",
    "    temp = unique_time.copy()\n",
    "    temp.sort_values(by=['time'],ascending=[True],inplace=True)\n",
    "        \n",
    "    first_future_day = last_day + dayspredict[i] # next future day to forecast\n",
    "\n",
    "    # Add the day number in 'day num' column (same value for all time entries)\n",
    "    temp['day num'] = first_future_day\n",
    "    \n",
    "    stack.append(temp)\n",
    "    del temp # clear temporary dataframe"
   ]
  },
  {
   "cell_type": "code",
   "execution_count": null,
   "metadata": {},
   "outputs": [],
   "source": [
    "zero = stack[0].copy()\n",
    "one = stack[1].copy()\n",
    "two = stack[2].copy()\n",
    "three = stack[3].copy()\n",
    "four = stack[4].copy()\n",
    "five = stack[5].copy()\n",
    "six = stack[6].copy()\n",
    "seven = stack[7].copy()\n",
    "eight = stack[8].copy()\n",
    "future_time = pd.DataFrame()\n",
    "future_time = future_time.append([zero,one,two,three,four,five,six,seven,eight])\n",
    "future_time"
   ]
  }
 ],
 "metadata": {
  "kernelspec": {
   "display_name": "Python 3",
   "language": "python",
   "name": "python3"
  },
  "language_info": {
   "codemirror_mode": {
    "name": "ipython",
    "version": 3
   },
   "file_extension": ".py",
   "mimetype": "text/x-python",
   "name": "python",
   "nbconvert_exporter": "python",
   "pygments_lexer": "ipython3",
   "version": "3.7.4"
  }
 },
 "nbformat": 4,
 "nbformat_minor": 2
}
